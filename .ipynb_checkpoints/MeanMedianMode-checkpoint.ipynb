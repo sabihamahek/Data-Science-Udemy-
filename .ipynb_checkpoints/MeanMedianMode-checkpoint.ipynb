{
 "cells": [
  {
   "cell_type": "markdown",
   "metadata": {},
   "source": [
    "# Mean, Median, Mode, and introducing NumPy"
   ]
  },
  {
   "cell_type": "markdown",
   "metadata": {},
   "source": [
    "## Mean vs. Median"
   ]
  },
  {
   "cell_type": "markdown",
   "metadata": {},
   "source": [
    "Let's create some fake income data, centered around 27,000 with a normal distribution and standard deviation of 15,000, with 10,000 data points. (We'll discuss those terms more later, if you're not familiar with them.)\n",
    "\n",
    "Then, compute the mean (average) - it should be close to 27,000:"
   ]
  },
  {
   "cell_type": "code",
   "execution_count": 6,
   "metadata": {},
   "outputs": [
    {
     "data": {
      "text/plain": [
       "27140.11011054691"
      ]
     },
     "execution_count": 6,
     "metadata": {},
     "output_type": "execute_result"
    }
   ],
   "source": [
    "import numpy as np\n",
    "\n",
    "incomes = np.random.normal(27000, 15000, 10000)\n",
    "np.mean(incomes)"
   ]
  },
  {
   "cell_type": "markdown",
   "metadata": {},
   "source": [
    "We can segment the income data into 50 buckets, and plot it as a histogram:"
   ]
  },
  {
   "cell_type": "code",
   "execution_count": 7,
   "metadata": {},
   "outputs": [
    {
     "data": {
      "image/png": "[encoded data removed]",
      "text/plain": [
       "<matplotlib.figure.Figure at 0x107682d30>"
      ]
     },
     "metadata": {},
     "output_type": "display_data"
    }
   ],
   "source": [
    "%matplotlib inline\n",
    "import matplotlib.pyplot as plt\n",
    "plt.hist(incomes, 50)\n",
    "plt.show()"
   ]
  },
  {
   "cell_type": "markdown",
   "metadata": {},
   "source": [
    "Now compute the median - since we have a nice, even distribution it too should be close to 27,000:"
   ]
  },
  {
   "cell_type": "code",
   "execution_count": 10,
   "metadata": {},
   "outputs": [
    {
     "data": {
      "text/plain": [
       "27117.517678844004"
      ]
     },
     "execution_count": 10,
     "metadata": {},
     "output_type": "execute_result"
    }
   ],
   "source": [
    "np.median(incomes)"
   ]
  },
  {
   "cell_type": "markdown",
   "metadata": {},
   "source": [
    "Now we'll add Donald Trump into the mix. Darn income inequality!"
   ]
  },
  {
   "cell_type": "code",
   "execution_count": 11,
   "metadata": {},
   "outputs": [],
   "source": [
    "incomes = np.append(incomes, [1000000000])"
   ]
  },
  {
   "cell_type": "markdown",
   "metadata": {},
   "source": [
    "The median won't change much, but the mean does:"
   ]
  },
  {
   "cell_type": "code",
   "execution_count": 12,
   "metadata": {},
   "outputs": [
    {
     "data": {
      "text/plain": [
       "27118.474714421955"
      ]
     },
     "execution_count": 12,
     "metadata": {},
     "output_type": "execute_result"
    }
   ],
   "source": [
    "np.median(incomes)"
   ]
  },
  {
   "cell_type": "code",
   "execution_count": 13,
   "metadata": {},
   "outputs": [
    {
     "data": {
      "text/plain": [
       "127127.39737080983"
      ]
     },
     "execution_count": 13,
     "metadata": {},
     "output_type": "execute_result"
    }
   ],
   "source": [
    "np.mean(incomes)"
   ]
  },
  {
   "cell_type": "markdown",
   "metadata": {},
   "source": [
    "## Mode"
   ]
  },
  {
   "cell_type": "markdown",
   "metadata": {},
   "source": [
    "Next, let's generate some fake age data for 500 people:"
   ]
  },
  {
   "cell_type": "code",
   "execution_count": 18,
   "metadata": {},
   "outputs": [
    {
     "data": {
      "text/plain": [
       "array([57, 70, 78, 25, 45, 82, 82, 23, 77, 64, 86, 69, 67, 37, 54, 30, 18,\n",
       "       51, 24, 42, 32, 70, 73, 87, 88, 82, 73, 38, 81, 82, 80, 85, 62, 53,\n",
       "       74, 77, 20, 76, 40, 47, 54, 54, 37, 69, 32, 62, 28, 68, 30, 74, 37,\n",
       "       32, 34, 57, 45, 70, 55, 77, 26, 35, 36, 75, 86, 59, 24, 24, 78, 79,\n",
       "       18, 71, 30, 54, 83, 21, 43, 58, 81, 58, 77, 20, 40, 55, 23, 21, 26,\n",
       "       54, 87, 47, 85, 30, 70, 58, 35, 61, 77, 32, 25, 47, 65, 85, 88, 37,\n",
       "       44, 45, 35, 38, 48, 74, 77, 86, 68, 51, 29, 50, 41, 39, 59, 28, 28,\n",
       "       37, 72, 40, 80, 60, 66, 35, 33, 25, 44, 82, 39, 58, 79, 46, 48, 32,\n",
       "       72, 62, 73, 52, 85, 44, 64, 50, 28, 78, 27, 26, 27, 50, 89, 80, 24,\n",
       "       20, 39, 38, 86, 74, 46, 36, 34, 53, 55, 64, 51, 75, 65, 89, 28, 34,\n",
       "       39, 34, 25, 76, 73, 77, 67, 53, 41, 75, 37, 32, 31, 32, 70, 42, 65,\n",
       "       81, 37, 60, 25, 27, 66, 34, 77, 61, 38, 87, 26, 47, 34, 45, 37, 54,\n",
       "       44, 26, 42, 86, 36, 45, 33, 68, 80, 64, 83, 35, 38, 70, 83, 33, 78,\n",
       "       78, 82, 41, 56, 24, 54, 55, 81, 56, 83, 57, 25, 28, 23, 38, 54, 38,\n",
       "       24, 44, 20, 18, 18, 79, 71, 42, 88, 47, 18, 40, 56, 83, 38, 68, 82,\n",
       "       64, 28, 31, 47, 86, 48, 44, 47, 81, 37, 67, 30, 64, 62, 85, 56, 33,\n",
       "       29, 67, 84, 34, 66, 80, 51, 35, 39, 49, 37, 85, 21, 59, 25, 55, 43,\n",
       "       74, 23, 85, 77, 48, 53, 23, 20, 48, 48, 83, 66, 21, 82, 59, 54, 63,\n",
       "       72, 87, 82, 25, 56, 76, 87, 34, 89, 37, 43, 69, 41, 63, 35, 64, 31,\n",
       "       77, 52, 52, 86, 43, 29, 39, 60, 83, 21, 77, 44, 40, 51, 32, 36, 47,\n",
       "       42, 22, 54, 53, 53, 53, 56, 69, 74, 70, 77, 84, 43, 41, 27, 61, 53,\n",
       "       36, 30, 43, 82, 56, 53, 33, 61, 65, 31, 29, 56, 81, 59, 40, 78, 48,\n",
       "       33, 60, 76, 77, 61, 46, 21, 72, 72, 36, 40, 69, 84, 67, 56, 68, 39,\n",
       "       60, 86, 20, 47, 52, 27, 44, 34, 75, 26, 50, 65, 40, 59, 66, 42, 67,\n",
       "       57, 80, 71, 72, 47, 48, 41, 64, 78, 55, 36, 84, 21, 68, 40, 21, 69,\n",
       "       80, 54, 67, 33, 31, 39, 68, 86, 83, 37, 57, 41, 46, 71, 89, 57, 83,\n",
       "       83, 58, 47, 29, 22, 35, 74, 34, 28, 88, 67, 63, 64, 56, 61, 43, 68,\n",
       "       50, 59, 19, 84, 88, 85, 28, 41, 25, 68, 37, 44, 18, 59, 68, 60, 62,\n",
       "       52, 59, 89, 24, 51, 66, 65, 64, 49, 28, 56, 38, 85, 24, 68, 52, 36,\n",
       "       50, 36, 81, 72, 35, 35, 67])"
      ]
     },
     "execution_count": 18,
     "metadata": {},
     "output_type": "execute_result"
    }
   ],
   "source": [
    "ages = np.random.randint(18, high=90, size=500)\n",
    "ages"
   ]
  },
  {
   "cell_type": "code",
   "execution_count": 19,
   "metadata": {},
   "outputs": [
    {
     "data": {
      "text/plain": [
       "ModeResult(mode=array([37]), count=array([13]))"
      ]
     },
     "execution_count": 19,
     "metadata": {},
     "output_type": "execute_result"
    }
   ],
   "source": [
    "from scipy import stats\n",
    "stats.mode(ages)"
   ]
  },
  {
   "cell_type": "code",
   "execution_count": null,
   "metadata": {},
   "outputs": [],
   "source": []
  }
 ],
 "metadata": {
  "kernelspec": {
   "display_name": "Python 3",
   "language": "python",
   "name": "python3"
  },
  "language_info": {
   "codemirror_mode": {
    "name": "ipython",
    "version": 3
   },
   "file_extension": ".py",
   "mimetype": "text/x-python",
   "name": "python",
   "nbconvert_exporter": "python",
   "pygments_lexer": "ipython3",
   "version": "3.6.3"
  }
 },
 "nbformat": 4,
 "nbformat_minor": 1
}
